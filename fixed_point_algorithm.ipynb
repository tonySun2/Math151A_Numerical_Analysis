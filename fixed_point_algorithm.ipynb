{
 "cells": [
  {
   "cell_type": "code",
   "execution_count": 50,
   "id": "0762e6e9",
   "metadata": {},
   "outputs": [],
   "source": [
    "#find a solution to p = g(p) given an initial approximation p0:\n",
    "\n",
    "#input1 p0: the initial approximation\n",
    "#           you can pick p0 = (LB + UB)/2\n",
    "#input2 TOL: tolerance, i.e. the maximum error allowed\n",
    "#input3 N0: maximum number of iterations \n",
    "#input4 g: the function you would like to apply on "
   ]
  },
  {
   "cell_type": "code",
   "execution_count": 51,
   "id": "84350c6b",
   "metadata": {},
   "outputs": [],
   "source": [
    "import math\n",
    "def g(x):\n",
    "    return math.pi + 0.5*math.sin(x/2)"
   ]
  },
  {
   "cell_type": "code",
   "execution_count": 52,
   "id": "7b1c545d",
   "metadata": {},
   "outputs": [],
   "source": [
    "def find_fixed_point(p0, TOL, N0,g):\n",
    "    i = 1\n",
    "    while (i <= N0):\n",
    "        p = g(p0)\n",
    "        if abs(p-p0) < TOL:\n",
    "            print(\"For function\", g.__name__,\" a fixed point \",p,\" is found within the specified TOL of\", TOL, \" after \",i,\" iterations\")\n",
    "            return \n",
    "        i +=1\n",
    "        p0 = p\n",
    "    print(\"The method failed after \", N0, \" iterations\")"
   ]
  },
  {
   "cell_type": "code",
   "execution_count": 53,
   "id": "742ecc46",
   "metadata": {},
   "outputs": [],
   "source": [
    "def g1(x):\n",
    "    return (3 + x - 2 * x**2)**(1/4)\n",
    "def g2(x):\n",
    "    return ((x + 3 - x**4) / 2)**(1/2)\n",
    "def g3(x):\n",
    "    return ((3 + x)/(x**2 + 2))**(1/2)\n",
    "def g4(x):\n",
    "    return (3 * x**4 + 2 * x**2 + 3)/(4 * x**3 + 4 * x - 1)"
   ]
  },
  {
   "cell_type": "code",
   "execution_count": 58,
   "id": "46fa950c",
   "metadata": {},
   "outputs": [
    {
     "name": "stdout",
     "output_type": "stream",
     "text": [
      "For function g1  a fixed point  1.124120456006366  is found within the specified TOL of 1e-05  after  22  iterations\n",
      "The method failed after  10000000000  iterations\n",
      "For function g3  a fixed point  1.1241211111103167  is found within the specified TOL of 1e-05  after  8  iterations\n",
      "For function g4  a fixed point  1.124123029704334  is found within the specified TOL of 1e-05  after  4  iterations\n"
     ]
    }
   ],
   "source": [
    "find_fixed_point(1, 10**-5, 1000,g1)\n",
    "find_fixed_point(1, 10**-5, 10000000000,g2)\n",
    "find_fixed_point(1, 10**-5, 1000,g3)\n",
    "find_fixed_point(1, 10**-5, 1000,g4)"
   ]
  }
 ],
 "metadata": {
  "kernelspec": {
   "display_name": "Python 3 (ipykernel)",
   "language": "python",
   "name": "python3"
  },
  "language_info": {
   "codemirror_mode": {
    "name": "ipython",
    "version": 3
   },
   "file_extension": ".py",
   "mimetype": "text/x-python",
   "name": "python",
   "nbconvert_exporter": "python",
   "pygments_lexer": "ipython3",
   "version": "3.9.13"
  }
 },
 "nbformat": 4,
 "nbformat_minor": 5
}
