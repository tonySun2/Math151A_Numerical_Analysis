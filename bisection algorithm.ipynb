{
 "cells": [
  {
   "cell_type": "code",
   "execution_count": 6,
   "id": "0397c26a",
   "metadata": {},
   "outputs": [],
   "source": [
    "def f(x):\n",
    "    return x*x-3"
   ]
  },
  {
   "cell_type": "code",
   "execution_count": 7,
   "id": "254fcf33",
   "metadata": {},
   "outputs": [
    {
     "name": "stdout",
     "output_type": "stream",
     "text": [
      "1.7320556640625 is an approximation to sqrt(3) within 10^-5 error \n",
      "It takes me  15  iterations\n"
     ]
    }
   ],
   "source": [
    "import math\n",
    "a = 0\n",
    "b = 4\n",
    "x = (a+b)/2\n",
    "n = 1\n",
    "while (abs(math.sqrt(3)-x) > 10**-5):\n",
    "    if f(x) < 0:\n",
    "        a = x\n",
    "    else:\n",
    "        b = x\n",
    "    x = (a+b)/2\n",
    "    n += 1\n",
    "print(x, \"is an approximation to sqrt(3) within 10^-5 error \")\n",
    "print(\"It takes me \",n ,\" iterations\")"
   ]
  },
  {
   "cell_type": "code",
   "execution_count": 19,
   "id": "6e61870e",
   "metadata": {},
   "outputs": [],
   "source": [
    "def f(x):\n",
    "    return x**3+x-4"
   ]
  },
  {
   "cell_type": "code",
   "execution_count": 20,
   "id": "0e6a61d6",
   "metadata": {},
   "outputs": [
    {
     "name": "stdout",
     "output_type": "stream",
     "text": [
      "1.378662109375 is an approximation to the true root within 10^-3 error \n",
      "It takes  12  iterations\n"
     ]
    }
   ],
   "source": [
    "import math\n",
    "a = 1\n",
    "b = 4\n",
    "x = (a+b)/2\n",
    "n = 1\n",
    "while (abs(f(x)-0) > 10**-3):\n",
    "    if f(x) < 0:\n",
    "        a = x\n",
    "    else:\n",
    "        b = x\n",
    "    x = (a+b)/2\n",
    "    n += 1\n",
    "print(x, \"is an approximation to the true root within 10^-3 error \")\n",
    "print(\"It takes \",n ,\" iterations\")"
   ]
  },
  {
   "cell_type": "code",
   "execution_count": null,
   "id": "b27cb0af",
   "metadata": {},
   "outputs": [],
   "source": [
    "#this bisection code is in a function form \n",
    "def bisection_method(a,b,TOL,N0):\n",
    "    i = 1\n",
    "    p = (a+b)/2\n",
    "    while i <= N0:\n",
    "        if abs(f(p)) < TOL:\n",
    "            print(\"Bisection method finds a root\",p,'after',i,'iterations')\n",
    "            return\n",
    "        if f(p)<0:\n",
    "            a = p\n",
    "        else:\n",
    "            b = p\n",
    "        p = (a+b)/2\n",
    "        i+=1\n",
    "    print('The bisection method failed after ',N0,\" iterations\")"
   ]
  }
 ],
 "metadata": {
  "kernelspec": {
   "display_name": "Python 3 (ipykernel)",
   "language": "python",
   "name": "python3"
  },
  "language_info": {
   "codemirror_mode": {
    "name": "ipython",
    "version": 3
   },
   "file_extension": ".py",
   "mimetype": "text/x-python",
   "name": "python",
   "nbconvert_exporter": "python",
   "pygments_lexer": "ipython3",
   "version": "3.9.13"
  }
 },
 "nbformat": 4,
 "nbformat_minor": 5
}
