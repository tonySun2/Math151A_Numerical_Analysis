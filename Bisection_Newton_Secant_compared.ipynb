{
 "cells": [
  {
   "cell_type": "code",
   "execution_count": 41,
   "id": "bade14ad",
   "metadata": {},
   "outputs": [],
   "source": [
    "import math"
   ]
  },
  {
   "cell_type": "code",
   "execution_count": 42,
   "id": "b3f7830c",
   "metadata": {},
   "outputs": [],
   "source": [
    "def f(x):\n",
    "    return x+math.cos(x)\n",
    "\n",
    "def f1(x): #first derivative of f\n",
    "    return 1-math.sin(x)\n",
    "\n",
    "def f2(x): #second derivative of f\n",
    "    return -math.cos(x)"
   ]
  },
  {
   "cell_type": "code",
   "execution_count": 43,
   "id": "1241f399",
   "metadata": {},
   "outputs": [],
   "source": [
    "def newtons_method(p0,TOL,N0):\n",
    "    i = 1\n",
    "    while i <= N0:\n",
    "        p = p0-f(p0)/f1(p0)\n",
    "        if abs(p-p0) < TOL:\n",
    "            print(\"Newtons method finds a root\", p,\"after\",i, \"iterations\")\n",
    "            return\n",
    "        i += 1\n",
    "        p0 = p\n",
    "    print('Newtons method failed after ',N0,\" iterations\")"
   ]
  },
  {
   "cell_type": "code",
   "execution_count": 44,
   "id": "3a3ac9d9",
   "metadata": {},
   "outputs": [],
   "source": [
    "def secant_method(p0,p1,TOL,N0):\n",
    "    i = 2\n",
    "    q0 = f(p0)\n",
    "    q1 = f(p1)\n",
    "    while(i <= N0):\n",
    "        p = p1-q1*(p1-p0)/(q1-q0)\n",
    "        if abs(p-p1) < TOL:\n",
    "            print(\"Secant method finds a root\", p,\"after\",i, \"iterations\")\n",
    "            return\n",
    "        i +=1\n",
    "        p0 = p1\n",
    "        q0 = q1\n",
    "        p1 = p\n",
    "        q1 = f(p)\n",
    "    print('The method failed after ',N0,\" iterations\")"
   ]
  },
  {
   "cell_type": "code",
   "execution_count": 45,
   "id": "e9f4e9a9",
   "metadata": {},
   "outputs": [],
   "source": [
    "def bisection_method(a,b,TOL,N0):\n",
    "    i = 1\n",
    "    p = (a+b)/2\n",
    "    while i <= N0:\n",
    "        if abs(f(p)) < TOL:\n",
    "            print(\"Bisection method finds a root\",p,'after',i,'iterations')\n",
    "            return\n",
    "        if f(p)<0:\n",
    "            a = p\n",
    "        else:\n",
    "            b = p\n",
    "        p = (a+b)/2\n",
    "        i+=1\n",
    "    print('The bisection method failed after ',N0,\" iterations\")"
   ]
  },
  {
   "cell_type": "code",
   "execution_count": 46,
   "id": "4ec86364",
   "metadata": {},
   "outputs": [
    {
     "name": "stdout",
     "output_type": "stream",
     "text": [
      "Newtons method finds a root -0.7390851332151607 after 43 iterations\n",
      "Secant method finds a root -0.7390851332151607 after 9 iterations\n",
      "Bisection method finds a root -0.7390851332456805 after 35 iterations\n"
     ]
    }
   ],
   "source": [
    "newtons_method(-5,10**-10,50000)\n",
    "secant_method(-5,5,10**-10,5000)\n",
    "bisection_method(-5,5,10**-10,5000)"
   ]
  },
  {
   "cell_type": "code",
   "execution_count": null,
   "id": "6027b663",
   "metadata": {},
   "outputs": [],
   "source": []
  }
 ],
 "metadata": {
  "kernelspec": {
   "display_name": "Python 3 (ipykernel)",
   "language": "python",
   "name": "python3"
  },
  "language_info": {
   "codemirror_mode": {
    "name": "ipython",
    "version": 3
   },
   "file_extension": ".py",
   "mimetype": "text/x-python",
   "name": "python",
   "nbconvert_exporter": "python",
   "pygments_lexer": "ipython3",
   "version": "3.9.13"
  }
 },
 "nbformat": 4,
 "nbformat_minor": 5
}
