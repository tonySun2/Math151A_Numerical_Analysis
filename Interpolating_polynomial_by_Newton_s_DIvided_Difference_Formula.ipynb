{
 "cells": [
  {
   "cell_type": "code",
   "execution_count": 7,
   "id": "43bcd160",
   "metadata": {},
   "outputs": [],
   "source": [
    "x = [-0.1,0,0.2,0.3]\n",
    "f = [5.3,2,3.19,1]"
   ]
  },
  {
   "cell_type": "code",
   "execution_count": 49,
   "id": "d6671de1",
   "metadata": {},
   "outputs": [],
   "source": [
    "import numpy as np\n",
    "def divdif_coefficients(x, f, n):\n",
    "    F = np.zeros((n+1,n+1))\n",
    "    for i in range(n+1):\n",
    "        F[i][0] = f[i]\n",
    "    for i in range(1, n+1):\n",
    "        for j in range(1, i+1):\n",
    "            F[i][j] = (F[i][j-1] - F[i-1][j-1])/(x[i] - x[i-j])\n",
    "    print(F)\n",
    "    print(\"we are interested in the diagnoal entries\")\n",
    "    "
   ]
  },
  {
   "cell_type": "code",
   "execution_count": 50,
   "id": "b852b5ec",
   "metadata": {},
   "outputs": [
    {
     "name": "stdout",
     "output_type": "stream",
     "text": [
      "[[   5.3           0.            0.            0.        ]\n",
      " [   2.          -33.            0.            0.        ]\n",
      " [   3.19          5.95        129.83333333    0.        ]\n",
      " [   1.          -21.9         -92.83333333 -556.66666667]]\n",
      "we are interested in the diagnoal entries\n"
     ]
    }
   ],
   "source": [
    "divdif_coefficients(x, f, 3)"
   ]
  }
 ],
 "metadata": {
  "kernelspec": {
   "display_name": "Python 3 (ipykernel)",
   "language": "python",
   "name": "python3"
  },
  "language_info": {
   "codemirror_mode": {
    "name": "ipython",
    "version": 3
   },
   "file_extension": ".py",
   "mimetype": "text/x-python",
   "name": "python",
   "nbconvert_exporter": "python",
   "pygments_lexer": "ipython3",
   "version": "3.9.13"
  }
 },
 "nbformat": 4,
 "nbformat_minor": 5
}
