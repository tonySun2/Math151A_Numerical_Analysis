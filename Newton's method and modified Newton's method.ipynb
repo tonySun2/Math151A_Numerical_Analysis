{
 "cells": [
  {
   "cell_type": "code",
   "execution_count": 41,
   "id": "d6a897b5",
   "metadata": {},
   "outputs": [],
   "source": [
    "import math"
   ]
  },
  {
   "cell_type": "code",
   "execution_count": 42,
   "id": "dcaebd65",
   "metadata": {},
   "outputs": [],
   "source": [
    "def f(x):\n",
    "    return math.e**x-1-x-x**2/2\n",
    "\n",
    "def f1(x): #first derivative of f\n",
    "    return math.e**x-1-x\n",
    "\n",
    "def f2(x): #second derivative of f\n",
    "    return math.e**x-1"
   ]
  },
  {
   "cell_type": "code",
   "execution_count": 43,
   "id": "f563bc4e",
   "metadata": {},
   "outputs": [],
   "source": [
    "def newtons_method(p0,TOL,N0):\n",
    "    i = 1\n",
    "    while i <= N0:\n",
    "        p = p0-f(p0)/f1(p0)\n",
    "        if abs(p-p0) < TOL:\n",
    "            print(\"we find a root\", p,\"after\",i, \"iterations\")\n",
    "            return\n",
    "        i += 1\n",
    "        p0 = p\n",
    "    print('Newtons method failed after ',N0,\" iterations\")"
   ]
  },
  {
   "cell_type": "code",
   "execution_count": 44,
   "id": "ad537ee2",
   "metadata": {},
   "outputs": [
    {
     "name": "stdout",
     "output_type": "stream",
     "text": [
      "Newtons method failed after  30000  iterations\n"
     ]
    }
   ],
   "source": [
    "newtons_method(1,10**-10,30000)"
   ]
  },
  {
   "cell_type": "code",
   "execution_count": 45,
   "id": "4a4fec94",
   "metadata": {},
   "outputs": [],
   "source": [
    "def modified_newtons_method(p0,TOL,N0):\n",
    "    i = 1\n",
    "    while i <= N0:\n",
    "        p = p0-f(p0)*f1(p0)/(f1(p0)**2-f(p0)*f2(p0))\n",
    "        if abs(p-p0) < TOL:\n",
    "            print(\"we find a root\", p,\"after\",i, \"iterations\")\n",
    "            return\n",
    "        i += 1\n",
    "        p0 = p\n",
    "    print('modified Newtons method failed after ',N0,\" iterations\")"
   ]
  },
  {
   "cell_type": "code",
   "execution_count": 46,
   "id": "4f284fb4",
   "metadata": {},
   "outputs": [
    {
     "name": "stdout",
     "output_type": "stream",
     "text": [
      "we find a root -6.78612241496925e-09 after 25860 iterations\n"
     ]
    }
   ],
   "source": [
    "modified_newtons_method(1,10**-10,30000)"
   ]
  },
  {
   "cell_type": "code",
   "execution_count": null,
   "id": "d0a49807",
   "metadata": {},
   "outputs": [],
   "source": []
  }
 ],
 "metadata": {
  "kernelspec": {
   "display_name": "Python 3 (ipykernel)",
   "language": "python",
   "name": "python3"
  },
  "language_info": {
   "codemirror_mode": {
    "name": "ipython",
    "version": 3
   },
   "file_extension": ".py",
   "mimetype": "text/x-python",
   "name": "python",
   "nbconvert_exporter": "python",
   "pygments_lexer": "ipython3",
   "version": "3.9.13"
  }
 },
 "nbformat": 4,
 "nbformat_minor": 5
}
