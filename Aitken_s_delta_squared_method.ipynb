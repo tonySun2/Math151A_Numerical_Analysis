{
 "cells": [
  {
   "cell_type": "code",
   "execution_count": 26,
   "id": "32f7dec9",
   "metadata": {},
   "outputs": [],
   "source": [
    "import math"
   ]
  },
  {
   "cell_type": "code",
   "execution_count": 27,
   "id": "29b34969",
   "metadata": {},
   "outputs": [],
   "source": [
    "def pn(p0): #supply your own pn here\n",
    "    return (math.e**p0/3)**0.5"
   ]
  },
  {
   "cell_type": "code",
   "execution_count": 28,
   "id": "4612e856",
   "metadata": {},
   "outputs": [],
   "source": [
    "def aitkens_sequence (p0, n):\n",
    "    i = 0\n",
    "    while i < n:\n",
    "        p0_aitken = p0 - (pn(p0)- p0)**2/(pn(pn(p0)) - 2*pn(p0) +p0)\n",
    "        print (p0_aitken)\n",
    "        i +=1\n",
    "        p0 = pn(p0)"
   ]
  },
  {
   "cell_type": "code",
   "execution_count": 29,
   "id": "5be8e331",
   "metadata": {},
   "outputs": [
    {
     "name": "stdout",
     "output_type": "stream",
     "text": [
      "0.9078585524534872\n",
      "0.9095675068671815\n",
      "0.9099168937459944\n",
      "0.9099888384861006\n",
      "0.910003697648647\n"
     ]
    }
   ],
   "source": [
    "aitkens_sequence(0.75,5)"
   ]
  },
  {
   "cell_type": "code",
   "execution_count": null,
   "id": "69c6a8df",
   "metadata": {},
   "outputs": [],
   "source": []
  }
 ],
 "metadata": {
  "kernelspec": {
   "display_name": "Python 3 (ipykernel)",
   "language": "python",
   "name": "python3"
  },
  "language_info": {
   "codemirror_mode": {
    "name": "ipython",
    "version": 3
   },
   "file_extension": ".py",
   "mimetype": "text/x-python",
   "name": "python",
   "nbconvert_exporter": "python",
   "pygments_lexer": "ipython3",
   "version": "3.9.13"
  }
 },
 "nbformat": 4,
 "nbformat_minor": 5
}
