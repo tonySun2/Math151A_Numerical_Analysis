{
 "cells": [
  {
   "cell_type": "code",
   "execution_count": 1,
   "id": "2012e38d",
   "metadata": {},
   "outputs": [],
   "source": [
    "import math\n",
    "def f(x):\n",
    "    return -x**3-math.cos(x)"
   ]
  },
  {
   "cell_type": "code",
   "execution_count": 22,
   "id": "cd78aa15",
   "metadata": {},
   "outputs": [],
   "source": [
    "def secant_method(p0,p1,TOL,N0,f):\n",
    "    i = 2\n",
    "    q0 = f(p0)\n",
    "    q1 = f(p1)\n",
    "    while(i <= N0):\n",
    "        p = p1-q1*(p1-p0)/(q1-q0)\n",
    "        if abs(p-p1) < TOL:\n",
    "            print(\"we find a root\", p,\"after\",i, \"iterations\")\n",
    "            return\n",
    "        i +=1\n",
    "        p0 = p1\n",
    "        q0 = q1\n",
    "        p1 = p\n",
    "        q1 = f(p)\n",
    "    print('The method failed after ',N0,\" iterations\")"
   ]
  },
  {
   "cell_type": "code",
   "execution_count": 25,
   "id": "a8ff543f",
   "metadata": {},
   "outputs": [
    {
     "name": "stdout",
     "output_type": "stream",
     "text": [
      "we find a root -0.8654740331016145 after 10 iterations\n"
     ]
    }
   ],
   "source": [
    "secant_method(-1,0,10**-8,1000,f)"
   ]
  }
 ],
 "metadata": {
  "kernelspec": {
   "display_name": "Python 3 (ipykernel)",
   "language": "python",
   "name": "python3"
  },
  "language_info": {
   "codemirror_mode": {
    "name": "ipython",
    "version": 3
   },
   "file_extension": ".py",
   "mimetype": "text/x-python",
   "name": "python",
   "nbconvert_exporter": "python",
   "pygments_lexer": "ipython3",
   "version": "3.9.13"
  }
 },
 "nbformat": 4,
 "nbformat_minor": 5
}
